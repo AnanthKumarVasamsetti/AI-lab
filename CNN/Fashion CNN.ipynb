{
 "cells": [
  {
   "cell_type": "code",
   "execution_count": 1,
   "metadata": {},
   "outputs": [],
   "source": [
    "import tensorflow as tf\n",
    "import numpy as np\n",
    "from tensorflow import keras\n",
    "import matplotlib.pyplot as plt"
   ]
  },
  {
   "cell_type": "code",
   "execution_count": 4,
   "metadata": {},
   "outputs": [],
   "source": [
    "fashion_mnist = keras.datasets.fashion_mnist"
   ]
  },
  {
   "cell_type": "code",
   "execution_count": 5,
   "metadata": {},
   "outputs": [],
   "source": [
    "(training_images, training_labels), (testing_images, testing_labels) = fashion_mnist.load_data()"
   ]
  },
  {
   "cell_type": "code",
   "execution_count": 9,
   "metadata": {},
   "outputs": [
    {
     "data": {
      "text/plain": [
       "<matplotlib.image.AxesImage at 0x1a4ac5a490>"
      ]
     },
     "execution_count": 9,
     "metadata": {},
     "output_type": "execute_result"
    },
    {
     "data": {
      "image/png": "[encoded data removed]",
      "text/plain": [
       "<Figure size 432x288 with 1 Axes>"
      ]
     },
     "metadata": {
      "needs_background": "light"
     },
     "output_type": "display_data"
    }
   ],
   "source": [
    "plt.imshow(training_images[42])"
   ]
  },
  {
   "cell_type": "code",
   "execution_count": 10,
   "metadata": {
    "collapsed": true
   },
   "outputs": [
    {
     "data": {
      "text/plain": [
       "array([[  0,   0,   0,   0,   0,   0,   0,   0,   0,   0,   0,   0,   0,\n",
       "          0,   0,   0,   0,   0,   0,   0,   0,   0,   0,   0,   0,   0,\n",
       "          0,   0],\n",
       "       [  0,   0,   0,   0,   0,   0,   0,   0,   0,   0,   0,   0,   0,\n",
       "          0,   0,   0,   0,   0,   0,   0,   0,   0,   0,   0,   0,   0,\n",
       "          0,   0],\n",
       "       [  0,   0,   0,   0,   0,   0,   0,   0,   0,   0,   0,   0,   0,\n",
       "          0,   0,   0,   0,   0,   0,   0,   0,   0,   0,   0,   0,   0,\n",
       "          0,   0],\n",
       "       [  0,   0,   0,   0,   0,   0,   0,   0,   0,   0,   0,   0,   0,\n",
       "          0,   0,   0,   0,   0,   0,   0,   0,   0,   0,   0,   0,   0,\n",
       "          0,   0],\n",
       "       [  0,   0,   0,   0,   0,   0,   0,   0,   0,   0,   0,   0,   0,\n",
       "          0,   0,   0,   0,   0,   0,   0,   0,   0,   0,   0,   0,   0,\n",
       "          0,   0],\n",
       "       [  0,   0,   0,   0,   0,   0,   0,   0,   0,   0,   0,   0,   0,\n",
       "          0,   0,   0,  82, 187,  26,   0,   0,   0,   0,   0,   0,   0,\n",
       "          0,   0],\n",
       "       [  0,   0,   0,   0,   0,   0,   0,   0,   0,   1,   0,   0,   1,\n",
       "          0,   0, 179, 240, 237, 255, 240, 139,  83,  64,  43,  60,  54,\n",
       "          0,   1],\n",
       "       [  0,   0,   0,   0,   0,   0,   0,   0,   0,   1,   0,   0,   1,\n",
       "          0,  58, 239, 222, 234, 238, 246, 252, 254, 255, 248, 255, 187,\n",
       "          0,   0],\n",
       "       [  0,   0,   0,   0,   0,   0,   0,   0,   0,   0,   2,   3,   0,\n",
       "          0, 194, 239, 226, 237, 235, 232, 230, 234, 234, 233, 249, 171,\n",
       "          0,   0],\n",
       "       [  0,   0,   0,   0,   0,   0,   0,   0,   0,   1,   1,   0,   0,\n",
       "         10, 255, 226, 242, 239, 238, 239, 240, 239, 242, 238, 248, 192,\n",
       "          0,   0],\n",
       "       [  0,   0,   0,   0,   0,   0,   0,   0,   0,   0,   0,   0,   0,\n",
       "        172, 245, 229, 240, 241, 240, 241, 243, 243, 241, 227, 250, 209,\n",
       "          0,   0],\n",
       "       [  0,   0,   0,   0,   0,   0,   0,   0,   0,   6,   5,   0,  62,\n",
       "        255, 230, 236, 239, 241, 242, 241, 242, 242, 238, 238, 242, 253,\n",
       "          0,   0],\n",
       "       [  0,   0,   0,   0,   0,   0,   0,   0,   0,   3,   0,   0, 255,\n",
       "        235, 228, 244, 241, 241, 244, 243, 243, 244, 243, 239, 235, 255,\n",
       "         22,   0],\n",
       "       [  0,   0,   0,   0,   0,   0,   0,   0,   0,   0,   0, 246, 228,\n",
       "        220, 245, 243, 237, 241, 242, 242, 242, 243, 239, 237, 235, 253,\n",
       "        106,   0],\n",
       "       [  0,   0,   3,   4,   4,   2,   1,   0,   0,  18, 243, 228, 231,\n",
       "        241, 243, 237, 238, 242, 241, 240, 240, 240, 235, 237, 236, 246,\n",
       "        234,   0],\n",
       "       [  1,   0,   0,   0,   0,   0,   0,   0,  22, 255, 238, 227, 238,\n",
       "        239, 237, 241, 241, 237, 236, 238, 239, 239, 239, 239, 239, 237,\n",
       "        255,   0],\n",
       "       [  0,   0,   0,   0,   0,  25,  83, 168, 255, 225, 225, 235, 228,\n",
       "        230, 227, 225, 227, 231, 232, 237, 240, 236, 238, 239, 239, 235,\n",
       "        251,  62],\n",
       "       [  0, 165, 225, 220, 224, 255, 255, 233, 229, 223, 227, 228, 231,\n",
       "        232, 235, 237, 233, 230, 228, 230, 233, 232, 235, 233, 234, 235,\n",
       "        255,  58],\n",
       "       [ 52, 251, 221, 226, 227, 225, 225, 225, 226, 226, 225, 227, 231,\n",
       "        229, 232, 239, 245, 250, 251, 252, 254, 254, 252, 254, 252, 235,\n",
       "        255,   0],\n",
       "       [ 31, 208, 230, 233, 233, 237, 236, 236, 241, 235, 241, 247, 251,\n",
       "        254, 242, 236, 233, 227, 219, 202, 193, 189, 186, 181, 171, 165,\n",
       "        190,  42],\n",
       "       [ 77, 199, 172, 188, 199, 202, 218, 219, 220, 229, 234, 222, 213,\n",
       "        209, 207, 210, 203, 184, 152, 171, 165, 162, 162, 167, 168, 157,\n",
       "        192,  78],\n",
       "       [  0,  45, 101, 140, 159, 174, 182, 186, 185, 188, 195, 197, 188,\n",
       "        175, 133,  70,  19,   0,   0, 209, 231, 218, 222, 224, 227, 217,\n",
       "        229,  93],\n",
       "       [  0,   0,   0,   0,   0,   0,   2,  24,  37,  45,  32,  18,  11,\n",
       "          0,   0,   0,   0,   0,   0,  72,  51,  53,  37,  34,  29,  31,\n",
       "          5,   0],\n",
       "       [  0,   0,   0,   0,   0,   0,   0,   0,   0,   0,   0,   0,   0,\n",
       "          0,   0,   0,   0,   0,   0,   0,   0,   0,   0,   0,   0,   0,\n",
       "          0,   0],\n",
       "       [  0,   0,   0,   0,   0,   0,   0,   0,   0,   0,   0,   0,   0,\n",
       "          0,   0,   0,   0,   0,   0,   0,   0,   0,   0,   0,   0,   0,\n",
       "          0,   0],\n",
       "       [  0,   0,   0,   0,   0,   0,   0,   0,   0,   0,   0,   0,   0,\n",
       "          0,   0,   0,   0,   0,   0,   0,   0,   0,   0,   0,   0,   0,\n",
       "          0,   0],\n",
       "       [  0,   0,   0,   0,   0,   0,   0,   0,   0,   0,   0,   0,   0,\n",
       "          0,   0,   0,   0,   0,   0,   0,   0,   0,   0,   0,   0,   0,\n",
       "          0,   0],\n",
       "       [  0,   0,   0,   0,   0,   0,   0,   0,   0,   0,   0,   0,   0,\n",
       "          0,   0,   0,   0,   0,   0,   0,   0,   0,   0,   0,   0,   0,\n",
       "          0,   0]], dtype=uint8)"
      ]
     },
     "execution_count": 10,
     "metadata": {},
     "output_type": "execute_result"
    }
   ],
   "source": [
    "training_images[42]"
   ]
  },
  {
   "cell_type": "code",
   "execution_count": 11,
   "metadata": {},
   "outputs": [],
   "source": [
    "#Normalizing the data\n",
    "\n",
    "training_images = training_images / 255.0\n",
    "testing_images = testing_images / 255.0"
   ]
  },
  {
   "cell_type": "code",
   "execution_count": 12,
   "metadata": {},
   "outputs": [
    {
     "name": "stdout",
     "output_type": "stream",
     "text": [
      "WARNING:tensorflow:From /anaconda3/lib/python3.7/site-packages/tensorflow_core/python/ops/resource_variable_ops.py:1630: calling BaseResourceVariable.__init__ (from tensorflow.python.ops.resource_variable_ops) with constraint is deprecated and will be removed in a future version.\n",
      "Instructions for updating:\n",
      "If using Keras pass *_constraint arguments to layers.\n"
     ]
    }
   ],
   "source": [
    "#Building model\n",
    "\n",
    "model = keras.Sequential([\n",
    "    keras.layers.Flatten(input_shape=(28,28)), # As image size is 28 X 28\n",
    "    keras.layers.Dense(128, activation=tf.nn.relu),\n",
    "    keras.layers.Dense(10, activation=tf.nn.softmax) # Number of classes (or) labels\n",
    "])"
   ]
  },
  {
   "cell_type": "code",
   "execution_count": 22,
   "metadata": {},
   "outputs": [],
   "source": [
    "model.compile(optimizer=tf.train.AdamOptimizer(),\n",
    "             loss=\"sparse_categorical_crossentropy\", metrics=['accuracy'])"
   ]
  },
  {
   "cell_type": "code",
   "execution_count": 23,
   "metadata": {},
   "outputs": [
    {
     "name": "stdout",
     "output_type": "stream",
     "text": [
      "Train on 60000 samples\n",
      "Epoch 1/20\n",
      "60000/60000 [==============================] - 4s 71us/sample - loss: 0.1998 - acc: 0.9242\n",
      "Epoch 2/20\n",
      "60000/60000 [==============================] - 4s 71us/sample - loss: 0.1939 - acc: 0.9276\n",
      "Epoch 3/20\n",
      "60000/60000 [==============================] - 5s 83us/sample - loss: 0.1916 - acc: 0.9293\n",
      "Epoch 4/20\n",
      "60000/60000 [==============================] - 4s 71us/sample - loss: 0.1843 - acc: 0.9299\n",
      "Epoch 5/20\n",
      "60000/60000 [==============================] - 4s 73us/sample - loss: 0.1799 - acc: 0.9330\n",
      "Epoch 6/20\n",
      "60000/60000 [==============================] - 4s 72us/sample - loss: 0.1748 - acc: 0.9347\n",
      "Epoch 7/20\n",
      "60000/60000 [==============================] - 5s 76us/sample - loss: 0.1720 - acc: 0.9359\n",
      "Epoch 8/20\n",
      "60000/60000 [==============================] - 5s 80us/sample - loss: 0.1680 - acc: 0.9360\n",
      "Epoch 9/20\n",
      "60000/60000 [==============================] - 5s 86us/sample - loss: 0.1619 - acc: 0.9391\n",
      "Epoch 10/20\n",
      "60000/60000 [==============================] - 5s 87us/sample - loss: 0.1598 - acc: 0.9398\n",
      "Epoch 11/20\n",
      "60000/60000 [==============================] - 5s 83us/sample - loss: 0.1575 - acc: 0.9406\n",
      "Epoch 12/20\n",
      "60000/60000 [==============================] - 5s 80us/sample - loss: 0.1531 - acc: 0.9414\n",
      "Epoch 13/20\n",
      "60000/60000 [==============================] - 5s 78us/sample - loss: 0.1492 - acc: 0.9442\n",
      "Epoch 14/20\n",
      "60000/60000 [==============================] - 5s 78us/sample - loss: 0.1470 - acc: 0.9448\n",
      "Epoch 15/20\n",
      "60000/60000 [==============================] - 5s 81us/sample - loss: 0.1428 - acc: 0.9468\n",
      "Epoch 16/20\n",
      "60000/60000 [==============================] - 5s 80us/sample - loss: 0.1390 - acc: 0.9479\n",
      "Epoch 17/20\n",
      "60000/60000 [==============================] - 5s 83us/sample - loss: 0.1390 - acc: 0.9477\n",
      "Epoch 18/20\n",
      "60000/60000 [==============================] - 5s 80us/sample - loss: 0.1342 - acc: 0.9493\n",
      "Epoch 19/20\n",
      "60000/60000 [==============================] - 5s 78us/sample - loss: 0.1322 - acc: 0.9500\n",
      "Epoch 20/20\n",
      "60000/60000 [==============================] - 5s 77us/sample - loss: 0.1302 - acc: 0.9518\n"
     ]
    },
    {
     "data": {
      "text/plain": [
       "<tensorflow.python.keras.callbacks.History at 0x1a731fc410>"
      ]
     },
     "execution_count": 23,
     "metadata": {},
     "output_type": "execute_result"
    }
   ],
   "source": [
    "model.fit(training_images, training_labels, epochs=20)"
   ]
  },
  {
   "cell_type": "code",
   "execution_count": 24,
   "metadata": {},
   "outputs": [
    {
     "name": "stdout",
     "output_type": "stream",
     "text": [
      "10000/10000 [==============================] - 0s 44us/sample - loss: 0.4294 - acc: 0.8900\n"
     ]
    },
    {
     "data": {
      "text/plain": [
       "[0.4294365342020989, 0.89]"
      ]
     },
     "execution_count": 24,
     "metadata": {},
     "output_type": "execute_result"
    }
   ],
   "source": [
    "model.evaluate(testing_images, testing_labels)"
   ]
  },
  {
   "cell_type": "code",
   "execution_count": 30,
   "metadata": {},
   "outputs": [],
   "source": [
    "# Using callbacks to terminate the training whenever required\n",
    "\n",
    "class myCallbacks(tf.keras.callbacks.Callback):\n",
    "    def on_epoch_end(self, epoch, logs={}):\n",
    "        if(logs.get('loss') < 0.4):\n",
    "            self.model.stop_training = True"
   ]
  },
  {
   "cell_type": "code",
   "execution_count": 31,
   "metadata": {},
   "outputs": [
    {
     "name": "stdout",
     "output_type": "stream",
     "text": [
      "Train on 60000 samples\n",
      "Epoch 1/20\n",
      "60000/60000 [==============================] - 4s 73us/sample - loss: 0.4976 - acc: 0.8232\n",
      "Epoch 2/20\n",
      "60000/60000 [==============================] - 4s 71us/sample - loss: 0.3740 - acc: 0.8650\n"
     ]
    },
    {
     "data": {
      "text/plain": [
       "<tensorflow.python.keras.callbacks.History at 0x1a936b9510>"
      ]
     },
     "execution_count": 31,
     "metadata": {},
     "output_type": "execute_result"
    }
   ],
   "source": [
    "callbacks = myCallbacks()\n",
    "\n",
    "model = keras.Sequential([\n",
    "    keras.layers.Flatten(input_shape=(28,28)), # As image size is 28 X 28\n",
    "    keras.layers.Dense(128, activation=tf.nn.relu),\n",
    "    keras.layers.Dense(10, activation=tf.nn.softmax) # Number of classes (or) labels\n",
    "])\n",
    "\n",
    "model.compile(optimizer=tf.train.AdamOptimizer(),\n",
    "             loss=\"sparse_categorical_crossentropy\", metrics=['accuracy'])\n",
    "\n",
    "model.fit(training_images, training_labels, epochs=20, callbacks=[callbacks])"
   ]
  },
  {
   "cell_type": "code",
   "execution_count": null,
   "metadata": {},
   "outputs": [],
   "source": []
  }
 ],
 "metadata": {
  "kernelspec": {
   "display_name": "Python 3",
   "language": "python",
   "name": "python3"
  },
  "language_info": {
   "codemirror_mode": {
    "name": "ipython",
    "version": 3
   },
   "file_extension": ".py",
   "mimetype": "text/x-python",
   "name": "python",
   "nbconvert_exporter": "python",
   "pygments_lexer": "ipython3",
   "version": "3.7.4"
  }
 },
 "nbformat": 4,
 "nbformat_minor": 4
}
